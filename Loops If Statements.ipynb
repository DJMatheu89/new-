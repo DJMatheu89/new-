{
 "cells": [
  {
   "cell_type": "markdown",
   "id": "07c39fe9",
   "metadata": {},
   "source": [
    "### for loops"
   ]
  },
  {
   "cell_type": "markdown",
   "id": "528f0d13",
   "metadata": {},
   "source": [
    "#### 1. Regular loop"
   ]
  },
  {
   "cell_type": "code",
   "execution_count": 1,
   "id": "10104fa7",
   "metadata": {},
   "outputs": [
    {
     "name": "stdout",
     "output_type": "stream",
     "text": [
      "0\n",
      "1\n",
      "2\n",
      "3\n",
      "4\n"
     ]
    }
   ],
   "source": [
    "for i in range(5): # recordemos que va de 0 y se \"mueve 5 veces\", llega hasta 4 \n",
    "    print(i)"
   ]
  },
  {
   "cell_type": "code",
   "execution_count": 5,
   "id": "61475875",
   "metadata": {},
   "outputs": [],
   "source": [
    "lst = []\n",
    "for i in range(21):\n",
    "    lst.append(i**3)"
   ]
  },
  {
   "cell_type": "code",
   "execution_count": 6,
   "id": "c987a3af",
   "metadata": {},
   "outputs": [
    {
     "data": {
      "text/plain": [
       "[0,\n",
       " 1,\n",
       " 8,\n",
       " 27,\n",
       " 64,\n",
       " 125,\n",
       " 216,\n",
       " 343,\n",
       " 512,\n",
       " 729,\n",
       " 1000,\n",
       " 1331,\n",
       " 1728,\n",
       " 2197,\n",
       " 2744,\n",
       " 3375,\n",
       " 4096,\n",
       " 4913,\n",
       " 5832,\n",
       " 6859,\n",
       " 8000]"
      ]
     },
     "execution_count": 6,
     "metadata": {},
     "output_type": "execute_result"
    }
   ],
   "source": [
    "lst"
   ]
  },
  {
   "cell_type": "markdown",
   "id": "3fd3b580",
   "metadata": {},
   "source": [
    "#### 2. List Loop"
   ]
  },
  {
   "cell_type": "code",
   "execution_count": 12,
   "id": "0acf2d4f",
   "metadata": {},
   "outputs": [
    {
     "name": "stdout",
     "output_type": "stream",
     "text": [
      "fog\n",
      "cat\n",
      "horse\n"
     ]
    }
   ],
   "source": [
    "lst = ['fog', 'cat', 'horse']\n",
    "for item in lst:\n",
    "    print(item)"
   ]
  },
  {
   "cell_type": "markdown",
   "id": "b605947a",
   "metadata": {},
   "source": [
    "#### 3. Enumaration loop"
   ]
  },
  {
   "cell_type": "code",
   "execution_count": 10,
   "id": "90d10c81",
   "metadata": {},
   "outputs": [
    {
     "name": "stdout",
     "output_type": "stream",
     "text": [
      "Index 0 contains fog\n",
      "Index 1 contains cat\n",
      "Index 2 contains horse\n"
     ]
    }
   ],
   "source": [
    "lst = ['fog', 'cat', 'horse']\n",
    "for i, item in enumerate(lst): # quiero obtener el index y el item\n",
    "    print('Index {} contains {}'.format(i, item))\n"
   ]
  },
  {
   "cell_type": "markdown",
   "id": "98517b10",
   "metadata": {},
   "source": [
    "When you use enumerate(), the function gives you back two loop variables:\n",
    "\n",
    "1. The count of the current iteration\n",
    "2. The value of the item at the current iteration"
   ]
  },
  {
   "cell_type": "code",
   "execution_count": 13,
   "id": "cfe3e386",
   "metadata": {},
   "outputs": [
    {
     "name": "stdout",
     "output_type": "stream",
     "text": [
      "0 fog\n",
      "1 cat\n",
      "2 horse\n"
     ]
    }
   ],
   "source": [
    "# es lo mismo\n",
    "values = ['fog', 'cat', 'horse']\n",
    "for index in range(len(values)): \n",
    "    value = values[index]\n",
    "    print(index, value)"
   ]
  },
  {
   "cell_type": "markdown",
   "id": "0ce88456",
   "metadata": {},
   "source": [
    "#### 4. List Comprenhension loop"
   ]
  },
  {
   "cell_type": "code",
   "execution_count": 16,
   "id": "22674ea0",
   "metadata": {},
   "outputs": [],
   "source": [
    "lst = [1,2,3,45,7]\n",
    "lst = [i**3 for i in range(21)]\n",
    "#lst"
   ]
  },
  {
   "cell_type": "markdown",
   "id": "1edf3941",
   "metadata": {},
   "source": [
    "#### 5. Double Forloop"
   ]
  },
  {
   "cell_type": "code",
   "execution_count": 17,
   "id": "640c0351",
   "metadata": {},
   "outputs": [
    {
     "name": "stdout",
     "output_type": "stream",
     "text": [
      "i = 0 j = 0\n",
      "i = 0 j = 1\n",
      "i = 0 j = 2\n",
      "i = 0 j = 3\n",
      "i = 0 j = 4\n",
      "i = 1 j = 0\n",
      "i = 1 j = 1\n",
      "i = 1 j = 2\n",
      "i = 1 j = 3\n",
      "i = 1 j = 4\n",
      "i = 2 j = 0\n",
      "i = 2 j = 1\n",
      "i = 2 j = 2\n",
      "i = 2 j = 3\n",
      "i = 2 j = 4\n",
      "i = 3 j = 0\n",
      "i = 3 j = 1\n",
      "i = 3 j = 2\n",
      "i = 3 j = 3\n",
      "i = 3 j = 4\n",
      "i = 4 j = 0\n",
      "i = 4 j = 1\n",
      "i = 4 j = 2\n",
      "i = 4 j = 3\n",
      "i = 4 j = 4\n"
     ]
    }
   ],
   "source": [
    "for i in range(5):\n",
    "    for j in range(5):\n",
    "        print('i = {} j = {}'.format(i,j))"
   ]
  },
  {
   "cell_type": "markdown",
   "id": "55a4fe05",
   "metadata": {},
   "source": [
    " #### booleans and if statements"
   ]
  },
  {
   "cell_type": "code",
   "execution_count": 18,
   "id": "9135ac1b",
   "metadata": {},
   "outputs": [],
   "source": [
    "a = True\n",
    "b = False"
   ]
  },
  {
   "cell_type": "code",
   "execution_count": 25,
   "id": "d62cb20c",
   "metadata": {},
   "outputs": [
    {
     "data": {
      "text/plain": [
       "False"
      ]
     },
     "execution_count": 25,
     "metadata": {},
     "output_type": "execute_result"
    }
   ],
   "source": [
    "a and b # si uno es falso entonces falso"
   ]
  },
  {
   "cell_type": "code",
   "execution_count": 26,
   "id": "8f4dfa15",
   "metadata": {},
   "outputs": [
    {
     "data": {
      "text/plain": [
       "True"
      ]
     },
     "execution_count": 26,
     "metadata": {},
     "output_type": "execute_result"
    }
   ],
   "source": [
    "a or b # si uno es verdadero etonces verdadero"
   ]
  },
  {
   "cell_type": "code",
   "execution_count": 20,
   "id": "9ba80587",
   "metadata": {},
   "outputs": [
    {
     "data": {
      "text/plain": [
       "True"
      ]
     },
     "execution_count": 20,
     "metadata": {},
     "output_type": "execute_result"
    }
   ],
   "source": [
    "not(b)"
   ]
  },
  {
   "cell_type": "code",
   "execution_count": 21,
   "id": "64a91dcc",
   "metadata": {},
   "outputs": [
    {
     "data": {
      "text/plain": [
       "True"
      ]
     },
     "execution_count": 21,
     "metadata": {},
     "output_type": "execute_result"
    }
   ],
   "source": [
    "a and not(b)"
   ]
  },
  {
   "cell_type": "code",
   "execution_count": 24,
   "id": "71ace0d8",
   "metadata": {},
   "outputs": [
    {
     "name": "stdout",
     "output_type": "stream",
     "text": [
      "yes\n"
     ]
    }
   ],
   "source": [
    "# el IF checkea como \"if this true? print yes\"\n",
    "if a:\n",
    "    print('yes')\n"
   ]
  },
  {
   "cell_type": "code",
   "execution_count": 27,
   "id": "796cfba8",
   "metadata": {},
   "outputs": [
    {
     "name": "stdout",
     "output_type": "stream",
     "text": [
      "yes\n"
     ]
    }
   ],
   "source": [
    "if a or b:\n",
    "    print('yes')"
   ]
  },
  {
   "cell_type": "code",
   "execution_count": 28,
   "id": "bbd2a1e5",
   "metadata": {},
   "outputs": [
    {
     "data": {
      "text/plain": [
       "True"
      ]
     },
     "execution_count": 28,
     "metadata": {},
     "output_type": "execute_result"
    }
   ],
   "source": [
    "c = a or b # c toma el resultado y lo guarda, boolean y boolean entonces c es boolean\n",
    "c"
   ]
  },
  {
   "cell_type": "code",
   "execution_count": 30,
   "id": "5f826d5a",
   "metadata": {},
   "outputs": [],
   "source": [
    "if a and b:\n",
    "    print('yes') # falso entonces no print"
   ]
  },
  {
   "cell_type": "code",
   "execution_count": 31,
   "id": "3843f529",
   "metadata": {},
   "outputs": [
    {
     "name": "stdout",
     "output_type": "stream",
     "text": [
      "yes\n"
     ]
    }
   ],
   "source": [
    "if a and not(b):\n",
    "    print('yes')"
   ]
  },
  {
   "cell_type": "code",
   "execution_count": 38,
   "id": "f0b90890",
   "metadata": {},
   "outputs": [
    {
     "data": {
      "text/plain": [
       "False"
      ]
     },
     "execution_count": 38,
     "metadata": {},
     "output_type": "execute_result"
    }
   ],
   "source": [
    "i = 0\n",
    "j = 0\n",
    "i == 1"
   ]
  },
  {
   "cell_type": "code",
   "execution_count": 39,
   "id": "70e9be31",
   "metadata": {},
   "outputs": [
    {
     "data": {
      "text/plain": [
       "False"
      ]
     },
     "execution_count": 39,
     "metadata": {},
     "output_type": "execute_result"
    }
   ],
   "source": [
    "a  = i==1\n",
    "a"
   ]
  },
  {
   "cell_type": "code",
   "execution_count": 40,
   "id": "9b45af89",
   "metadata": {},
   "outputs": [
    {
     "name": "stdout",
     "output_type": "stream",
     "text": [
      "yes\n"
     ]
    }
   ],
   "source": [
    "if i == 0:\n",
    "    print('yes')"
   ]
  },
  {
   "cell_type": "code",
   "execution_count": 41,
   "id": "b231f542",
   "metadata": {},
   "outputs": [
    {
     "name": "stdout",
     "output_type": "stream",
     "text": [
      "yes\n"
     ]
    }
   ],
   "source": [
    "if i != 1:\n",
    "    print('yes')"
   ]
  },
  {
   "cell_type": "code",
   "execution_count": 55,
   "id": "d1575ffe",
   "metadata": {},
   "outputs": [
    {
     "name": "stdout",
     "output_type": "stream",
     "text": [
      "yes\n"
     ]
    }
   ],
   "source": [
    "if i == 1 or j == 0:\n",
    "    print('yes')"
   ]
  },
  {
   "cell_type": "code",
   "execution_count": 59,
   "id": "502787bb",
   "metadata": {},
   "outputs": [
    {
     "name": "stdout",
     "output_type": "stream",
     "text": [
      "yes\n"
     ]
    }
   ],
   "source": [
    "if 0.5: # en este caso si es cero es falso. Si cualquier otro numero es true\n",
    "    print('yes')"
   ]
  },
  {
   "cell_type": "markdown",
   "id": "d139de0f",
   "metadata": {},
   "source": [
    "#### substrings"
   ]
  },
  {
   "cell_type": "code",
   "execution_count": 43,
   "id": "3ff718c7",
   "metadata": {},
   "outputs": [
    {
     "data": {
      "text/plain": [
       "True"
      ]
     },
     "execution_count": 43,
     "metadata": {},
     "output_type": "execute_result"
    }
   ],
   "source": [
    "'at' in 'cat' # toma dos strings y los comvierte en un boolean"
   ]
  },
  {
   "cell_type": "code",
   "execution_count": 47,
   "id": "2e6b7e40",
   "metadata": {},
   "outputs": [
    {
     "name": "stdout",
     "output_type": "stream",
     "text": [
      "no\n"
     ]
    }
   ],
   "source": [
    "if 'i' in 'cat': \n",
    "    print('yes')\n",
    "else:\n",
    "    print('no')"
   ]
  },
  {
   "cell_type": "code",
   "execution_count": 54,
   "id": "8daa54b1",
   "metadata": {},
   "outputs": [
    {
     "name": "stdout",
     "output_type": "stream",
     "text": [
      "yes\n"
     ]
    }
   ],
   "source": [
    "i = 0\n",
    "if 'at' in 'cat' and i == 0:\n",
    "    print('yes')\n",
    "elif 'at' in 'cat':\n",
    "    print('only condition 1 true')\n",
    "else:\n",
    "    print('no')"
   ]
  },
  {
   "cell_type": "code",
   "execution_count": null,
   "id": "6e47277a",
   "metadata": {},
   "outputs": [],
   "source": []
  }
 ],
 "metadata": {
  "kernelspec": {
   "display_name": "Python 3",
   "language": "python",
   "name": "python3"
  },
  "language_info": {
   "codemirror_mode": {
    "name": "ipython",
    "version": 3
   },
   "file_extension": ".py",
   "mimetype": "text/x-python",
   "name": "python",
   "nbconvert_exporter": "python",
   "pygments_lexer": "ipython3",
   "version": "3.8.10"
  }
 },
 "nbformat": 4,
 "nbformat_minor": 5
}
