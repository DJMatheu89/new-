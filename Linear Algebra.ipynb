{
 "cells": [
  {
   "cell_type": "markdown",
   "id": "cfb98041",
   "metadata": {},
   "source": [
    "# Using numpy arrays"
   ]
  },
  {
   "cell_type": "code",
   "execution_count": 2,
   "id": "d064d3e7",
   "metadata": {},
   "outputs": [],
   "source": [
    "import numpy as np"
   ]
  },
  {
   "cell_type": "markdown",
   "id": "5c25fde4",
   "metadata": {},
   "source": [
    "Matrices can also be created by combining existing vectors using the np.column_stack() function:"
   ]
  },
  {
   "cell_type": "code",
   "execution_count": 5,
   "id": "7d8c2e27",
   "metadata": {},
   "outputs": [
    {
     "data": {
      "text/plain": [
       "array([[-2,  0,  3],\n",
       "       [-2,  0,  3],\n",
       "       [-2,  0,  3],\n",
       "       [-2,  0,  3]])"
      ]
     },
     "execution_count": 5,
     "metadata": {},
     "output_type": "execute_result"
    }
   ],
   "source": [
    "v = np.array([-2,-2,-2,-2])\n",
    "u = np.array([0,0,0,0])\n",
    "w = np.array([3,3,3,3])\n",
    "\n",
    "A = np.column_stack((v,u,w))\n",
    "A"
   ]
  },
  {
   "cell_type": "markdown",
   "id": "1dd50c9d",
   "metadata": {},
   "source": [
    "To access the shape of a matrix or vector once it’s been created as a NumPy array, we call the .shape attribute of the array variable:"
   ]
  },
  {
   "cell_type": "code",
   "execution_count": 10,
   "id": "7b970c8a",
   "metadata": {},
   "outputs": [
    {
     "data": {
      "text/plain": [
       "(2, 2)"
      ]
     },
     "execution_count": 10,
     "metadata": {},
     "output_type": "execute_result"
    }
   ],
   "source": [
    "A = np.array([[1,2],[3,4]])\n",
    "A.shape"
   ]
  },
  {
   "cell_type": "markdown",
   "id": "ff0c028b",
   "metadata": {},
   "source": [
    "The first index accesses the specific row, while the second index accesses the specific column. Note that rows and columns are zero-indexed. In this example, the output will be the following:"
   ]
  },
  {
   "cell_type": "code",
   "execution_count": 11,
   "id": "b360c6a6",
   "metadata": {},
   "outputs": [
    {
     "data": {
      "text/plain": [
       "2"
      ]
     },
     "execution_count": 11,
     "metadata": {},
     "output_type": "execute_result"
    }
   ],
   "source": [
    "A = np.array([[1,2],[3,4]])\n",
    "A[0,1]"
   ]
  },
  {
   "cell_type": "code",
   "execution_count": 14,
   "id": "3a400fea",
   "metadata": {},
   "outputs": [
    {
     "data": {
      "text/plain": [
       "array([[-2,  4,  5],\n",
       "       [-6,  1, -7],\n",
       "       [ 2, -3,  9],\n",
       "       [ 3,  8,  0]])"
      ]
     },
     "execution_count": 14,
     "metadata": {},
     "output_type": "execute_result"
    }
   ],
   "source": [
    "vector_1 = np.array([-2,-6,2,3])\n",
    "vector_2 = np.array([4,1,-3,8])\n",
    "vector_3 = np.array([5,-7,9,0])\n",
    "\n",
    "matrix = np.column_stack((vector_1, vector_2, vector_3))\n",
    "matrix"
   ]
  },
  {
   "cell_type": "code",
   "execution_count": 15,
   "id": "322b013f",
   "metadata": {},
   "outputs": [
    {
     "data": {
      "text/plain": [
       "(4, 3)"
      ]
     },
     "execution_count": 15,
     "metadata": {},
     "output_type": "execute_result"
    }
   ],
   "source": [
    "matrix.shape"
   ]
  },
  {
   "cell_type": "code",
   "execution_count": 18,
   "id": "c3a3a1d2",
   "metadata": {},
   "outputs": [
    {
     "data": {
      "text/plain": [
       "array([ 5, -7,  9,  0])"
      ]
     },
     "execution_count": 18,
     "metadata": {},
     "output_type": "execute_result"
    }
   ],
   "source": [
    "#printing the third column of the matrix\n",
    "matrix[:,2]"
   ]
  },
  {
   "cell_type": "markdown",
   "id": "2ec2e330",
   "metadata": {},
   "source": [
    "# Using NumPy for Linear Algebra Operations"
   ]
  },
  {
   "cell_type": "markdown",
   "id": "644bca51",
   "metadata": {},
   "source": [
    "multiplication between the NumPy array and the scalar:"
   ]
  },
  {
   "cell_type": "code",
   "execution_count": 19,
   "id": "ea5a77e9",
   "metadata": {},
   "outputs": [
    {
     "data": {
      "text/plain": [
       "array([[ 4,  8],\n",
       "       [12, 16]])"
      ]
     },
     "execution_count": 19,
     "metadata": {},
     "output_type": "execute_result"
    }
   ],
   "source": [
    "A = np.array([[1,2],[3,4]])\n",
    "4 * A"
   ]
  },
  {
   "cell_type": "markdown",
   "id": "29b5ab22",
   "metadata": {},
   "source": [
    "addition between the NumPy arrays."
   ]
  },
  {
   "cell_type": "code",
   "execution_count": 20,
   "id": "8e8daa5b",
   "metadata": {},
   "outputs": [
    {
     "data": {
      "text/plain": [
       "array([[-3, -1],\n",
       "       [ 1,  3]])"
      ]
     },
     "execution_count": 20,
     "metadata": {},
     "output_type": "execute_result"
    }
   ],
   "source": [
    "A = np.array([[1,2],[3,4]])\n",
    "B = np.array([[-4,-3],[-2,-1]])\n",
    "A + B"
   ]
  },
  {
   "cell_type": "markdown",
   "id": "b2b352a6",
   "metadata": {},
   "source": [
    "Vector dot products can be computed using the np.dot() function:"
   ]
  },
  {
   "cell_type": "code",
   "execution_count": 21,
   "id": "1cc79da4",
   "metadata": {},
   "outputs": [
    {
     "data": {
      "text/plain": [
       "-12"
      ]
     },
     "execution_count": 21,
     "metadata": {},
     "output_type": "execute_result"
    }
   ],
   "source": [
    "v = np.array([-1,-2,-3])\n",
    "u = np.array([2,2,2])\n",
    "np.dot(v,u)"
   ]
  },
  {
   "cell_type": "markdown",
   "id": "29e93c3e",
   "metadata": {},
   "source": [
    "Matrix multiplication is computed using either the np.matmul() function or using the @ symbol as shorthand. It is important to note that using the typical Python multiplication symbol * will result in an elementwise multiplication instead."
   ]
  },
  {
   "cell_type": "code",
   "execution_count": 22,
   "id": "856070a5",
   "metadata": {},
   "outputs": [
    {
     "data": {
      "text/plain": [
       "array([[ -8,  -5],\n",
       "       [-20, -13]])"
      ]
     },
     "execution_count": 22,
     "metadata": {},
     "output_type": "execute_result"
    }
   ],
   "source": [
    "A = np.array([[1,2],[3,4]])\n",
    "B = np.array([[-4,-3],[-2,-1]])\n",
    "np.matmul(A,B)"
   ]
  },
  {
   "cell_type": "code",
   "execution_count": 23,
   "id": "663d7758",
   "metadata": {},
   "outputs": [
    {
     "data": {
      "text/plain": [
       "array([[ -8,  -5],\n",
       "       [-20, -13]])"
      ]
     },
     "execution_count": 23,
     "metadata": {},
     "output_type": "execute_result"
    }
   ],
   "source": [
    "A@B"
   ]
  },
  {
   "cell_type": "code",
   "execution_count": 24,
   "id": "41294c84",
   "metadata": {},
   "outputs": [
    {
     "data": {
      "text/plain": [
       "array([[-4, -6],\n",
       "       [-6, -4]])"
      ]
     },
     "execution_count": 24,
     "metadata": {},
     "output_type": "execute_result"
    }
   ],
   "source": [
    "A*B"
   ]
  },
  {
   "cell_type": "markdown",
   "id": "3a959edd",
   "metadata": {},
   "source": [
    "Excercise"
   ]
  },
  {
   "cell_type": "code",
   "execution_count": 27,
   "id": "c2a4cd73",
   "metadata": {},
   "outputs": [],
   "source": [
    "A = np.array([[2,3,-4], [-2, 1, -3]])\n",
    "# 2 x 3 matrix\n",
    "B = np.array([[1,-1,4], [3,-3,3]])\n",
    "# 3 x 2 matrix\n",
    "C = np.array([[1, 2], [3, 4], [5, 6]])"
   ]
  },
  {
   "cell_type": "code",
   "execution_count": 28,
   "id": "65fd1022",
   "metadata": {},
   "outputs": [
    {
     "data": {
      "text/plain": [
       "array([[  6,  14, -24],\n",
       "       [-14,  10, -18]])"
      ]
     },
     "execution_count": 28,
     "metadata": {},
     "output_type": "execute_result"
    }
   ],
   "source": [
    "#1\n",
    "D = 4 * A - 2 * B\n",
    "D"
   ]
  },
  {
   "cell_type": "code",
   "execution_count": 30,
   "id": "1919336f",
   "metadata": {},
   "outputs": [
    {
     "data": {
      "text/plain": [
       "array([[ -9,  -8],\n",
       "       [-14, -18]])"
      ]
     },
     "execution_count": 30,
     "metadata": {},
     "output_type": "execute_result"
    }
   ],
   "source": [
    "#2\n",
    "E = A@C\n",
    "E"
   ]
  },
  {
   "cell_type": "code",
   "execution_count": 32,
   "id": "a0929ff0",
   "metadata": {},
   "outputs": [
    {
     "data": {
      "text/plain": [
       "array([[ -2,   5, -10],\n",
       "       [ -2,  13, -24],\n",
       "       [ -2,  21, -38]])"
      ]
     },
     "execution_count": 32,
     "metadata": {},
     "output_type": "execute_result"
    }
   ],
   "source": [
    "#3\n",
    "F = C@A\n",
    "F"
   ]
  },
  {
   "cell_type": "markdown",
   "id": "a401052e",
   "metadata": {},
   "source": [
    "Special Matrices"
   ]
  },
  {
   "cell_type": "markdown",
   "id": "21b297ac",
   "metadata": {},
   "source": [
    "An identity matrix can be constructed using the np.eye() functions, which takes an integer argument that determines the n x n size of the square identity matrix."
   ]
  },
  {
   "cell_type": "code",
   "execution_count": 34,
   "id": "90a7de2d",
   "metadata": {},
   "outputs": [
    {
     "data": {
      "text/plain": [
       "array([[1., 0., 0., 0.],\n",
       "       [0., 1., 0., 0.],\n",
       "       [0., 0., 1., 0.],\n",
       "       [0., 0., 0., 1.]])"
      ]
     },
     "execution_count": 34,
     "metadata": {},
     "output_type": "execute_result"
    }
   ],
   "source": [
    "identity = np.eye(4)\n",
    "identity"
   ]
  },
  {
   "cell_type": "markdown",
   "id": "5333253c",
   "metadata": {},
   "source": [
    "A matrix or vector of all zeros can be constructed using the np.zeros() function, which takes in a tuple argument for the shape of the NumPy array filled with zeros."
   ]
  },
  {
   "cell_type": "code",
   "execution_count": 37,
   "id": "a3e97743",
   "metadata": {},
   "outputs": [
    {
     "data": {
      "text/plain": [
       "array([0., 0., 0., 0., 0.])"
      ]
     },
     "execution_count": 37,
     "metadata": {},
     "output_type": "execute_result"
    }
   ],
   "source": [
    "# 5-element vector of zeros\n",
    "zero_vector = np.zeros((5))\n",
    "zero_vector"
   ]
  },
  {
   "cell_type": "code",
   "execution_count": 38,
   "id": "3f06e638",
   "metadata": {},
   "outputs": [
    {
     "data": {
      "text/plain": [
       "array([[0., 0.],\n",
       "       [0., 0.],\n",
       "       [0., 0.]])"
      ]
     },
     "execution_count": 38,
     "metadata": {},
     "output_type": "execute_result"
    }
   ],
   "source": [
    "# 3x2 matrix of zeros\n",
    "zero_matrix = np.zeros((3,2))\n",
    "zero_matrix"
   ]
  },
  {
   "cell_type": "markdown",
   "id": "a9dabc4b",
   "metadata": {},
   "source": [
    "The transpose of a matrix can be accessed using the .T attribute of a NumPy array as shown below:"
   ]
  },
  {
   "cell_type": "code",
   "execution_count": 40,
   "id": "e5426d1b",
   "metadata": {},
   "outputs": [
    {
     "data": {
      "text/plain": [
       "array([[1, 3],\n",
       "       [2, 4]])"
      ]
     },
     "execution_count": 40,
     "metadata": {},
     "output_type": "execute_result"
    }
   ],
   "source": [
    "A = np.array([[1,2],[3,4]])\n",
    "A.T\n"
   ]
  },
  {
   "cell_type": "markdown",
   "id": "fe62756a",
   "metadata": {},
   "source": [
    "Example"
   ]
  },
  {
   "cell_type": "code",
   "execution_count": 42,
   "id": "55fb1e5b",
   "metadata": {},
   "outputs": [],
   "source": [
    "A = np.array([[1,-1,1], [0,1,0], [-1,2,1]])\n",
    "B = np.array([[0.5,1.5,-0.5], [0,1,0], [0.5,-0.5,0.5]])"
   ]
  },
  {
   "cell_type": "markdown",
   "id": "e57e49d0",
   "metadata": {},
   "source": [
    "Print out the matrix product of AB and the matrix product of BA."
   ]
  },
  {
   "cell_type": "code",
   "execution_count": 43,
   "id": "2441c410",
   "metadata": {},
   "outputs": [
    {
     "data": {
      "text/plain": [
       "array([[1., 0., 0.],\n",
       "       [0., 1., 0.],\n",
       "       [0., 0., 1.]])"
      ]
     },
     "execution_count": 43,
     "metadata": {},
     "output_type": "execute_result"
    }
   ],
   "source": [
    "A@B"
   ]
  },
  {
   "cell_type": "code",
   "execution_count": 44,
   "id": "ec070bef",
   "metadata": {},
   "outputs": [
    {
     "data": {
      "text/plain": [
       "array([[1., 0., 0.],\n",
       "       [0., 1., 0.],\n",
       "       [0., 0., 1.]])"
      ]
     },
     "execution_count": 44,
     "metadata": {},
     "output_type": "execute_result"
    }
   ],
   "source": [
    "B@A"
   ]
  },
  {
   "cell_type": "markdown",
   "id": "96950209",
   "metadata": {},
   "source": [
    "Since the matrix product of A and B results in the identity matrix, they are inverses of each other."
   ]
  },
  {
   "cell_type": "code",
   "execution_count": 45,
   "id": "a9befbc4",
   "metadata": {},
   "outputs": [
    {
     "data": {
      "text/plain": [
       "array([[ 1,  0, -1],\n",
       "       [-1,  1,  2],\n",
       "       [ 1,  0,  1]])"
      ]
     },
     "execution_count": 45,
     "metadata": {},
     "output_type": "execute_result"
    }
   ],
   "source": [
    "A.T"
   ]
  },
  {
   "cell_type": "code",
   "execution_count": 46,
   "id": "1902d91f",
   "metadata": {},
   "outputs": [
    {
     "data": {
      "text/plain": [
       "array([[ 0.5,  0. ,  0.5],\n",
       "       [ 1.5,  1. , -0.5],\n",
       "       [-0.5,  0. ,  0.5]])"
      ]
     },
     "execution_count": 46,
     "metadata": {},
     "output_type": "execute_result"
    }
   ],
   "source": [
    "B.T"
   ]
  },
  {
   "cell_type": "markdown",
   "id": "0e283536",
   "metadata": {},
   "source": [
    "# Additional Linear Algebra Operations"
   ]
  },
  {
   "cell_type": "markdown",
   "id": "07cb7a56",
   "metadata": {},
   "source": [
    "The “norm” (or length/magnitude) of a vector can be found using np.linalg.norm():"
   ]
  },
  {
   "cell_type": "code",
   "execution_count": 49,
   "id": "d6574484",
   "metadata": {},
   "outputs": [
    {
     "data": {
      "text/plain": [
       "4.58257569495584"
      ]
     },
     "execution_count": 49,
     "metadata": {},
     "output_type": "execute_result"
    }
   ],
   "source": [
    "v = np.array([2,-4,1])\n",
    "v_norm = np.linalg.norm(v)\n",
    "v_norm"
   ]
  },
  {
   "cell_type": "markdown",
   "id": "08bae1f6",
   "metadata": {},
   "source": [
    "## The inverse \n",
    "of a square matrix, if one exists, can be found using np.linalg.inv():"
   ]
  },
  {
   "cell_type": "code",
   "execution_count": 51,
   "id": "fb93b92f",
   "metadata": {},
   "outputs": [
    {
     "data": {
      "text/plain": [
       "array([[-2. ,  1. ],\n",
       "       [ 1.5, -0.5]])"
      ]
     },
     "execution_count": 51,
     "metadata": {},
     "output_type": "execute_result"
    }
   ],
   "source": [
    "A = np.array([[1,2],[3,4]])\n",
    "np.linalg.inv(A)"
   ]
  },
  {
   "cell_type": "markdown",
   "id": "f4a59239",
   "metadata": {},
   "source": [
    "inally, we can actually solve for unknown variables in a system on linear equations in Ax=b form using np.linalg.solve(), which takes in the A and b parameters. Given:"
   ]
  },
  {
   "cell_type": "code",
   "execution_count": 55,
   "id": "d3938d30",
   "metadata": {},
   "outputs": [
    {
     "data": {
      "text/plain": [
       "(0.0, 0.0, 1.0)"
      ]
     },
     "execution_count": 55,
     "metadata": {},
     "output_type": "execute_result"
    }
   ],
   "source": [
    "# each array in A is an equation from the above system of equations\n",
    "A = np.array([[1,4,-1],[-1,-3,2],[2,-1,-2]])\n",
    "# the solution to each equation\n",
    "b = np.array([-1,2,-2])\n",
    "# solve for x, y, and z\n",
    "x,y,z = np.linalg.solve(A,b)\n",
    "x,y,z"
   ]
  },
  {
   "cell_type": "code",
   "execution_count": null,
   "id": "bf11b412",
   "metadata": {},
   "outputs": [],
   "source": []
  }
 ],
 "metadata": {
  "kernelspec": {
   "display_name": "Python 3",
   "language": "python",
   "name": "python3"
  },
  "language_info": {
   "codemirror_mode": {
    "name": "ipython",
    "version": 3
   },
   "file_extension": ".py",
   "mimetype": "text/x-python",
   "name": "python",
   "nbconvert_exporter": "python",
   "pygments_lexer": "ipython3",
   "version": "3.8.10"
  }
 },
 "nbformat": 4,
 "nbformat_minor": 5
}
