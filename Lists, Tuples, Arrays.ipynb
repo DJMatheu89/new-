{
 "cells": [
  {
   "cell_type": "markdown",
   "id": "ef5dec74",
   "metadata": {},
   "source": [
    "## variables"
   ]
  },
  {
   "cell_type": "code",
   "execution_count": 8,
   "id": "4d728102",
   "metadata": {},
   "outputs": [],
   "source": [
    "x= 10\n"
   ]
  },
  {
   "cell_type": "code",
   "execution_count": 9,
   "id": "84abe819",
   "metadata": {},
   "outputs": [
    {
     "data": {
      "text/plain": [
       "100"
      ]
     },
     "execution_count": 9,
     "metadata": {},
     "output_type": "execute_result"
    }
   ],
   "source": [
    "x**2"
   ]
  },
  {
   "cell_type": "code",
   "execution_count": 10,
   "id": "b3972638",
   "metadata": {},
   "outputs": [],
   "source": [
    "x= 'cat'"
   ]
  },
  {
   "cell_type": "code",
   "execution_count": 11,
   "id": "b6cb05e0",
   "metadata": {},
   "outputs": [
    {
     "data": {
      "text/plain": [
       "'cat'"
      ]
     },
     "execution_count": 11,
     "metadata": {},
     "output_type": "execute_result"
    }
   ],
   "source": [
    "x"
   ]
  },
  {
   "cell_type": "code",
   "execution_count": 12,
   "id": "b51b41b0",
   "metadata": {},
   "outputs": [],
   "source": [
    "x = 'ca{}t'.format('s') #el .format pone el string 's dentro de los corchetes'"
   ]
  },
  {
   "cell_type": "code",
   "execution_count": 13,
   "id": "e0a5705b",
   "metadata": {},
   "outputs": [
    {
     "data": {
      "text/plain": [
       "'cast'"
      ]
     },
     "execution_count": 13,
     "metadata": {},
     "output_type": "execute_result"
    }
   ],
   "source": [
    "x"
   ]
  },
  {
   "cell_type": "code",
   "execution_count": 14,
   "id": "d6221fad",
   "metadata": {},
   "outputs": [],
   "source": [
    "age = 24.555644616"
   ]
  },
  {
   "cell_type": "code",
   "execution_count": 20,
   "id": "f62f28f7",
   "metadata": {},
   "outputs": [
    {
     "data": {
      "text/plain": [
       "'I am 24.556 years old'"
      ]
     },
     "execution_count": 20,
     "metadata": {},
     "output_type": "execute_result"
    }
   ],
   "source": [
    "X = 'I am {:.3f} years old'.format(age) # dentor del corchete sirve para cuantos deimales queres\n",
    "X"
   ]
  },
  {
   "cell_type": "markdown",
   "id": "9f57e422",
   "metadata": {},
   "source": [
    "## List, tuples, Dictionaries, Arrays"
   ]
  },
  {
   "cell_type": "code",
   "execution_count": 55,
   "id": "b2b98274",
   "metadata": {},
   "outputs": [
    {
     "data": {
      "text/plain": [
       "[1, 2, 3, 4, 5, 6, 'cat', [1, 2]]"
      ]
     },
     "execution_count": 55,
     "metadata": {},
     "output_type": "execute_result"
    }
   ],
   "source": [
    "x= [1,2,3,4,5,6,'cat', [1,2]]\n",
    "x"
   ]
  },
  {
   "cell_type": "code",
   "execution_count": 56,
   "id": "d85f7d75",
   "metadata": {},
   "outputs": [
    {
     "data": {
      "text/plain": [
       "'cat'"
      ]
     },
     "execution_count": 56,
     "metadata": {},
     "output_type": "execute_result"
    }
   ],
   "source": [
    "x[6]"
   ]
  },
  {
   "cell_type": "code",
   "execution_count": 57,
   "id": "37272caa",
   "metadata": {},
   "outputs": [
    {
     "data": {
      "text/plain": [
       "[1, 2]"
      ]
     },
     "execution_count": 57,
     "metadata": {},
     "output_type": "execute_result"
    }
   ],
   "source": [
    "x[7]"
   ]
  },
  {
   "cell_type": "code",
   "execution_count": 58,
   "id": "b6d6ed15",
   "metadata": {},
   "outputs": [
    {
     "data": {
      "text/plain": [
       "2"
      ]
     },
     "execution_count": 58,
     "metadata": {},
     "output_type": "execute_result"
    }
   ],
   "source": [
    "x[7][1]"
   ]
  },
  {
   "cell_type": "code",
   "execution_count": 59,
   "id": "ea3ed8e2",
   "metadata": {},
   "outputs": [
    {
     "data": {
      "text/plain": [
       "[1, 6, 3, 4, 5, 6, 'cat', [1, 2]]"
      ]
     },
     "execution_count": 59,
     "metadata": {},
     "output_type": "execute_result"
    }
   ],
   "source": [
    "x[1] = 6 # en una lista se puede modificar el contenido de la lista\n",
    "x"
   ]
  },
  {
   "cell_type": "markdown",
   "id": "2dfb8d29",
   "metadata": {},
   "source": [
    "#### las siguientes dos no funcionan igual en arrays"
   ]
  },
  {
   "cell_type": "code",
   "execution_count": 60,
   "id": "cfa188d2",
   "metadata": {},
   "outputs": [
    {
     "data": {
      "text/plain": [
       "[1, 6, 3, 4, 5, 6, 'cat', [1, 2], 1, 6, 3, 4, 5, 6, 'cat', [1, 2]]"
      ]
     },
     "execution_count": 60,
     "metadata": {},
     "output_type": "execute_result"
    }
   ],
   "source": [
    "x*2 #la lisat se duplica por 2"
   ]
  },
  {
   "cell_type": "code",
   "execution_count": 62,
   "id": "a74d2bb0",
   "metadata": {},
   "outputs": [
    {
     "data": {
      "text/plain": [
       "[1, 6, 3, 4, 5, 6, 'cat', [1, 2], 'hola', 'carnal']"
      ]
     },
     "execution_count": 62,
     "metadata": {},
     "output_type": "execute_result"
    }
   ],
   "source": [
    "new_list = ['hola', 'carnal'] # esto es concadenate\n",
    "x + new_list"
   ]
  },
  {
   "cell_type": "markdown",
   "id": "19b6c39b",
   "metadata": {},
   "source": [
    "#### tuple"
   ]
  },
  {
   "cell_type": "code",
   "execution_count": 38,
   "id": "5eadd997",
   "metadata": {},
   "outputs": [],
   "source": [
    "x = (1,2,3,'pete', [1,2])"
   ]
  },
  {
   "cell_type": "code",
   "execution_count": 39,
   "id": "12cebca9",
   "metadata": {},
   "outputs": [
    {
     "ename": "TypeError",
     "evalue": "'tuple' object does not support item assignment",
     "output_type": "error",
     "traceback": [
      "\u001b[1;31m---------------------------------------------------------------------------\u001b[0m",
      "\u001b[1;31mTypeError\u001b[0m                                 Traceback (most recent call last)",
      "\u001b[1;32m<ipython-input-39-5a1a8f15d3fe>\u001b[0m in \u001b[0;36m<module>\u001b[1;34m\u001b[0m\n\u001b[1;32m----> 1\u001b[1;33m \u001b[0mx\u001b[0m\u001b[1;33m[\u001b[0m\u001b[1;36m1\u001b[0m\u001b[1;33m]\u001b[0m \u001b[1;33m=\u001b[0m \u001b[1;36m2\u001b[0m \u001b[1;31m# en los tuples esto no se puede\u001b[0m\u001b[1;33m\u001b[0m\u001b[1;33m\u001b[0m\u001b[0m\n\u001b[0m",
      "\u001b[1;31mTypeError\u001b[0m: 'tuple' object does not support item assignment"
     ]
    }
   ],
   "source": [
    "x[1] = 2 # en los tuples esto no se puede (Its immutable)"
   ]
  },
  {
   "cell_type": "markdown",
   "id": "eae73be9",
   "metadata": {},
   "source": [
    "### Dict "
   ]
  },
  {
   "cell_type": "code",
   "execution_count": 49,
   "id": "09d92e92",
   "metadata": {},
   "outputs": [],
   "source": [
    "d = {'cat':'feline', 'dog':4, 56:'Derek', 'lista':[1,2,'cat']} # esta compuesto por {key: item}"
   ]
  },
  {
   "cell_type": "code",
   "execution_count": 48,
   "id": "fc3bc3e6",
   "metadata": {},
   "outputs": [
    {
     "data": {
      "text/plain": [
       "4"
      ]
     },
     "execution_count": 48,
     "metadata": {},
     "output_type": "execute_result"
    }
   ],
   "source": [
    "d['dog']"
   ]
  },
  {
   "cell_type": "code",
   "execution_count": 46,
   "id": "c2990342",
   "metadata": {},
   "outputs": [
    {
     "data": {
      "text/plain": [
       "'Derek'"
      ]
     },
     "execution_count": 46,
     "metadata": {},
     "output_type": "execute_result"
    }
   ],
   "source": [
    "d[56]"
   ]
  },
  {
   "cell_type": "code",
   "execution_count": 50,
   "id": "c1c27260",
   "metadata": {},
   "outputs": [
    {
     "data": {
      "text/plain": [
       "[1, 2, 'cat']"
      ]
     },
     "execution_count": 50,
     "metadata": {},
     "output_type": "execute_result"
    }
   ],
   "source": [
    "d['lista']"
   ]
  },
  {
   "cell_type": "markdown",
   "id": "1f7ae277",
   "metadata": {},
   "source": [
    "### Arrays"
   ]
  },
  {
   "cell_type": "code",
   "execution_count": 51,
   "id": "abaa4e09",
   "metadata": {},
   "outputs": [],
   "source": [
    "import numpy as np"
   ]
  },
  {
   "cell_type": "code",
   "execution_count": 54,
   "id": "fa0fa3e5",
   "metadata": {},
   "outputs": [
    {
     "data": {
      "text/plain": [
       "array([1, 5, 8, 6])"
      ]
     },
     "execution_count": 54,
     "metadata": {},
     "output_type": "execute_result"
    }
   ],
   "source": [
    "y = np.array([1,5,8,6])\n",
    "y"
   ]
  },
  {
   "cell_type": "code",
   "execution_count": 63,
   "id": "6bdce861",
   "metadata": {},
   "outputs": [
    {
     "data": {
      "text/plain": [
       "array([ 2, 10, 16, 12])"
      ]
     },
     "execution_count": 63,
     "metadata": {},
     "output_type": "execute_result"
    }
   ],
   "source": [
    "y * 2"
   ]
  },
  {
   "cell_type": "code",
   "execution_count": 64,
   "id": "3f652343",
   "metadata": {},
   "outputs": [
    {
     "data": {
      "text/plain": [
       "array([ 1, 25, 64, 36], dtype=int32)"
      ]
     },
     "execution_count": 64,
     "metadata": {},
     "output_type": "execute_result"
    }
   ],
   "source": [
    "y ** 2"
   ]
  },
  {
   "cell_type": "code",
   "execution_count": 65,
   "id": "1dd64272",
   "metadata": {},
   "outputs": [
    {
     "data": {
      "text/plain": [
       "array([1.        , 0.2       , 0.125     , 0.16666667])"
      ]
     },
     "execution_count": 65,
     "metadata": {},
     "output_type": "execute_result"
    }
   ],
   "source": [
    "1/y"
   ]
  },
  {
   "cell_type": "code",
   "execution_count": 68,
   "id": "b004cdc8",
   "metadata": {},
   "outputs": [
    {
     "data": {
      "text/plain": [
       "array([ 0.        ,  2.22222222,  4.44444444,  6.66666667,  8.88888889,\n",
       "       11.11111111, 13.33333333, 15.55555556, 17.77777778, 20.        ])"
      ]
     },
     "execution_count": 68,
     "metadata": {},
     "output_type": "execute_result"
    }
   ],
   "source": [
    "y = np.linspace(0,20,10) # crea un array que va de 0 a 20 usando 10 elementos\n",
    "y"
   ]
  },
  {
   "cell_type": "code",
   "execution_count": 70,
   "id": "64e1f96f",
   "metadata": {},
   "outputs": [
    {
     "data": {
      "text/plain": [
       "array([ 0,  2,  4,  6,  8, 10, 12, 14, 16, 18])"
      ]
     },
     "execution_count": 70,
     "metadata": {},
     "output_type": "execute_result"
    }
   ],
   "source": [
    "y = np.arange(0,20,2) # va de 0 a 20 pero de dos en dos\n",
    "y"
   ]
  },
  {
   "cell_type": "markdown",
   "id": "28d7ac46",
   "metadata": {},
   "source": [
    "### plotting"
   ]
  },
  {
   "cell_type": "code",
   "execution_count": 72,
   "id": "c3bb7ae7",
   "metadata": {},
   "outputs": [],
   "source": [
    "import matplotlib.pyplot as plt"
   ]
  },
  {
   "cell_type": "code",
   "execution_count": 76,
   "id": "7082224b",
   "metadata": {},
   "outputs": [],
   "source": [
    "x = np.linspace(0,1,10)\n",
    "y = x ** 2"
   ]
  },
  {
   "cell_type": "code",
   "execution_count": 77,
   "id": "c51f95db",
   "metadata": {},
   "outputs": [
    {
     "data": {
      "text/plain": [
       "[<matplotlib.lines.Line2D at 0x1fa7c386640>]"
      ]
     },
     "execution_count": 77,
     "metadata": {},
     "output_type": "execute_result"
    },
    {
     "data": {
      "image/png": "[encoded data removed]",
      "text/plain": [
       "<Figure size 432x288 with 1 Axes>"
      ]
     },
     "metadata": {
      "needs_background": "light"
     },
     "output_type": "display_data"
    }
   ],
   "source": [
    "plt.plot(x,y)"
   ]
  },
  {
   "cell_type": "code",
   "execution_count": 80,
   "id": "42a19dbb",
   "metadata": {},
   "outputs": [
    {
     "data": {
      "text/plain": [
       "Text(0, 0.5, 'y')"
      ]
     },
     "execution_count": 80,
     "metadata": {},
     "output_type": "execute_result"
    },
    {
     "data": {
      "image/png": "[encoded data removed]",
      "text/plain": [
       "<Figure size 432x288 with 1 Axes>"
      ]
     },
     "metadata": {
      "needs_background": "light"
     },
     "output_type": "display_data"
    }
   ],
   "source": [
    "plt.plot(x,y,'ro--') #rojo y conecta cada punto con guiones\n",
    "plt.xlabel('x', fontsize= 15)\n",
    "plt.ylabel('y', fontsize= 15)"
   ]
  },
  {
   "cell_type": "code",
   "execution_count": null,
   "id": "834c40b8",
   "metadata": {},
   "outputs": [],
   "source": []
  }
 ],
 "metadata": {
  "kernelspec": {
   "display_name": "Python 3",
   "language": "python",
   "name": "python3"
  },
  "language_info": {
   "codemirror_mode": {
    "name": "ipython",
    "version": 3
   },
   "file_extension": ".py",
   "mimetype": "text/x-python",
   "name": "python",
   "nbconvert_exporter": "python",
   "pygments_lexer": "ipython3",
   "version": "3.8.10"
  }
 },
 "nbformat": 4,
 "nbformat_minor": 5
}
